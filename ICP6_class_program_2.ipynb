{
  "nbformat": 4,
  "nbformat_minor": 0,
  "metadata": {
    "colab": {
      "provenance": []
    },
    "kernelspec": {
      "name": "python3",
      "display_name": "Python 3"
    },
    "language_info": {
      "name": "python"
    }
  },
  "cells": [
    {
      "cell_type": "code",
      "execution_count": 9,
      "metadata": {
        "colab": {
          "base_uri": "https://localhost:8080/"
        },
        "id": "k78jUrRbCa5u",
        "outputId": "3646fa6e-96d2-442a-e916-732f03fea84a"
      },
      "outputs": [
        {
          "output_type": "stream",
          "name": "stdout",
          "text": [
            "(28, 28)\n",
            "784\n",
            "Epoch 1/10\n",
            "235/235 [==============================] - 5s 19ms/step - loss: 0.2899 - accuracy: 0.9115 - val_loss: 0.1250 - val_accuracy: 0.9617\n",
            "Epoch 2/10\n",
            "235/235 [==============================] - 4s 18ms/step - loss: 0.0988 - accuracy: 0.9704 - val_loss: 0.1075 - val_accuracy: 0.9643\n",
            "Epoch 3/10\n",
            "235/235 [==============================] - 4s 17ms/step - loss: 0.0621 - accuracy: 0.9807 - val_loss: 0.0724 - val_accuracy: 0.9780\n",
            "Epoch 4/10\n",
            "235/235 [==============================] - 4s 18ms/step - loss: 0.0423 - accuracy: 0.9868 - val_loss: 0.0780 - val_accuracy: 0.9744\n",
            "Epoch 5/10\n",
            "235/235 [==============================] - 4s 17ms/step - loss: 0.0315 - accuracy: 0.9897 - val_loss: 0.1045 - val_accuracy: 0.9689\n",
            "Epoch 6/10\n",
            "235/235 [==============================] - 4s 17ms/step - loss: 0.0219 - accuracy: 0.9931 - val_loss: 0.0674 - val_accuracy: 0.9810\n",
            "Epoch 7/10\n",
            "235/235 [==============================] - 5s 19ms/step - loss: 0.0169 - accuracy: 0.9948 - val_loss: 0.0697 - val_accuracy: 0.9789\n",
            "Epoch 8/10\n",
            "235/235 [==============================] - 4s 17ms/step - loss: 0.0120 - accuracy: 0.9962 - val_loss: 0.0631 - val_accuracy: 0.9827\n",
            "Epoch 9/10\n",
            "235/235 [==============================] - 4s 17ms/step - loss: 0.0092 - accuracy: 0.9970 - val_loss: 0.0758 - val_accuracy: 0.9798\n",
            "Epoch 10/10\n",
            "235/235 [==============================] - 5s 19ms/step - loss: 0.0083 - accuracy: 0.9974 - val_loss: 0.0764 - val_accuracy: 0.9804\n"
          ]
        }
      ],
      "source": [
        "from keras import Sequential\n",
        "from keras.datasets import mnist\n",
        "import numpy as np\n",
        "from keras.layers import Dense\n",
        "from keras.utils import to_categorical\n",
        "\n",
        "(train_images,train_labels),(test_images, test_labels) = mnist.load_data()\n",
        "\n",
        "print(train_images.shape[1:])\n",
        "#process the data\n",
        "#1. convert each image of shape 28*28 to 784 dimensional which will be fed to the network as a single feature\n",
        "dimData = np.prod(train_images.shape[1:])\n",
        "print(dimData)\n",
        "train_data = train_images.reshape(train_images.shape[0],dimData)\n",
        "test_data = test_images.reshape(test_images.shape[0],dimData)\n",
        "\n",
        "#convert data to float and scale values between 0 and 1\n",
        "train_data = train_data.astype('float')\n",
        "test_data = test_data.astype('float')\n",
        "#scale data\n",
        "train_data /=255.0\n",
        "test_data /=255.0\n",
        "#change the labels frominteger to one-hot encoding. to_categorical is doing the same thing as LabelEncoder()\n",
        "train_labels_one_hot = to_categorical(train_labels)\n",
        "test_labels_one_hot = to_categorical(test_labels)\n",
        "\n",
        "#creating network\n",
        "model = Sequential()\n",
        "model.add(Dense(512, activation='relu', input_shape=(dimData,)))\n",
        "model.add(Dense(512, activation='relu'))\n",
        "model.add(Dense(10, activation='softmax'))\n",
        "\n",
        "model.compile(optimizer='rmsprop', loss='categorical_crossentropy', metrics=['accuracy'])\n",
        "history = model.fit(train_data, train_labels_one_hot, batch_size=256, epochs=10, verbose=1,\n",
        "                   validation_data=(test_data, test_labels_one_hot))"
      ]
    },
    {
      "cell_type": "code",
      "source": [
        "import matplotlib.pyplot as plt\n",
        "\n",
        "# Plot training & validation accuracy values\n",
        "plt.plot(history.history['accuracy'])\n",
        "plt.plot(history.history['val_accuracy'])\n",
        "plt.title('Model accuracy')\n",
        "plt.ylabel('Accuracy')\n",
        "plt.xlabel('Epoch')\n",
        "plt.legend(['Train', 'Test'], loc='upper left')\n",
        "plt.show()\n",
        "\n",
        "# Plot training & validation loss values\n",
        "plt.plot(history.history['loss'])\n",
        "plt.plot(history.history['val_loss'])\n",
        "plt.title('Model loss')\n",
        "plt.ylabel('Loss')\n",
        "plt.xlabel('Epoch')\n",
        "plt.legend(['Train', 'Test'], loc='upper left')\n",
        "plt.show()\n"
      ],
      "metadata": {
        "colab": {
          "base_uri": "https://localhost:8080/",
          "height": 573
        },
        "id": "ac9-y8p2DMVC",
        "outputId": "a6c095bb-94a5-42be-cb87-5c278e32a1c5"
      },
      "execution_count": 10,
      "outputs": [
        {
          "output_type": "display_data",
          "data": {
            "text/plain": [
              "<Figure size 432x288 with 1 Axes>"
            ],
            "image/png": "[encoded data removed]"
          },
          "metadata": {
            "needs_background": "light"
          }
        },
        {
          "output_type": "display_data",
          "data": {
            "text/plain": [
              "<Figure size 432x288 with 1 Axes>"
            ],
            "image/png": "[encoded data removed]"
          },
          "metadata": {
            "needs_background": "light"
          }
        }
      ]
    },
    {
      "cell_type": "code",
      "source": [
        "import matplotlib.pyplot as plt\n",
        "\n",
        "# select a random image from test data\n",
        "image_index = 1234\n",
        "img = test_images[image_index]\n",
        "\n",
        "# plot the image\n",
        "plt.imshow(img, cmap='gray')\n",
        "\n",
        "# reshape image to 1D vector\n",
        "img = img.reshape((1, 784))\n",
        "\n",
        "# normalize pixel values\n",
        "img = img / 255.0\n",
        "\n",
        "# predict class of image\n",
        "result = model.predict(img)\n",
        "print(\"Predicted digit:\", np.argmax(result))\n"
      ],
      "metadata": {
        "colab": {
          "base_uri": "https://localhost:8080/",
          "height": 300
        },
        "id": "BTDNUA14D1zh",
        "outputId": "11b63244-89ae-4e35-bc9b-a9bebb75f8ea"
      },
      "execution_count": 11,
      "outputs": [
        {
          "output_type": "stream",
          "name": "stdout",
          "text": [
            "1/1 [==============================] - 0s 46ms/step\n",
            "Predicted digit: 8\n"
          ]
        },
        {
          "output_type": "display_data",
          "data": {
            "text/plain": [
              "<Figure size 432x288 with 1 Axes>"
            ],
            "image/png": "[encoded data removed]"
          },
          "metadata": {
            "needs_background": "light"
          }
        }
      ]
    },
    {
      "cell_type": "code",
      "source": [
        "from keras import Sequential\n",
        "from keras.datasets import mnist\n",
        "import numpy as np\n",
        "from keras.layers import Dense\n",
        "from keras.utils import to_categorical\n",
        "\n",
        "(train_images,train_labels),(test_images, test_labels) = mnist.load_data()\n",
        "\n",
        "print(train_images.shape[1:])\n",
        "#process the data\n",
        "#1. convert each image of shape 28*28 to 784 dimensional which will be fed to the network as a single feature\n",
        "dimData = np.prod(train_images.shape[1:])\n",
        "print(dimData)\n",
        "train_data = train_images.reshape(train_images.shape[0],dimData)\n",
        "test_data = test_images.reshape(test_images.shape[0],dimData)\n",
        "\n",
        "#convert data to float and scale values between 0 and 1\n",
        "train_data = train_data.astype('float')\n",
        "test_data = test_data.astype('float')\n",
        "#scale data\n",
        "train_data /=255.0\n",
        "test_data /=255.0\n",
        "#change the labels frominteger to one-hot encoding. to_categorical is doing the same thing as LabelEncoder()\n",
        "train_labels_one_hot = to_categorical(train_labels)\n",
        "test_labels_one_hot = to_categorical(test_labels)\n",
        "\n",
        "#creating network\n",
        "model = Sequential()\n",
        "model.add(Dense(512, activation='tanh', input_shape=(dimData,)))\n",
        "model.add(Dense(256, activation='tanh'))\n",
        "model.add(Dense(128, activation='tanh'))\n",
        "model.add(Dense(10, activation='softmax'))\n",
        "\n",
        "model.compile(optimizer='rmsprop', loss='categorical_crossentropy', metrics=['accuracy'])\n",
        "history = model.fit(train_data, train_labels_one_hot, batch_size=256, epochs=10, verbose=1,\n",
        "                   validation_data=(test_data, test_labels_one_hot))\n"
      ],
      "metadata": {
        "colab": {
          "base_uri": "https://localhost:8080/"
        },
        "id": "omeyaGx9EAoB",
        "outputId": "7041d21e-0662-4552-f5b2-1095234ffa88"
      },
      "execution_count": 12,
      "outputs": [
        {
          "output_type": "stream",
          "name": "stdout",
          "text": [
            "(28, 28)\n",
            "784\n",
            "Epoch 1/10\n",
            "235/235 [==============================] - 4s 15ms/step - loss: 0.3378 - accuracy: 0.8975 - val_loss: 0.2269 - val_accuracy: 0.9283\n",
            "Epoch 2/10\n",
            "235/235 [==============================] - 3s 15ms/step - loss: 0.1454 - accuracy: 0.9560 - val_loss: 0.1236 - val_accuracy: 0.9618\n",
            "Epoch 3/10\n",
            "235/235 [==============================] - 4s 16ms/step - loss: 0.0960 - accuracy: 0.9713 - val_loss: 0.0995 - val_accuracy: 0.9698\n",
            "Epoch 4/10\n",
            "235/235 [==============================] - 4s 16ms/step - loss: 0.0679 - accuracy: 0.9790 - val_loss: 0.0902 - val_accuracy: 0.9723\n",
            "Epoch 5/10\n",
            "235/235 [==============================] - 4s 15ms/step - loss: 0.0503 - accuracy: 0.9846 - val_loss: 0.0867 - val_accuracy: 0.9730\n",
            "Epoch 6/10\n",
            "235/235 [==============================] - 3s 15ms/step - loss: 0.0389 - accuracy: 0.9879 - val_loss: 0.1631 - val_accuracy: 0.9496\n",
            "Epoch 7/10\n",
            "235/235 [==============================] - 4s 17ms/step - loss: 0.0286 - accuracy: 0.9912 - val_loss: 0.1111 - val_accuracy: 0.9668\n",
            "Epoch 8/10\n",
            "235/235 [==============================] - 3s 15ms/step - loss: 0.0214 - accuracy: 0.9937 - val_loss: 0.0761 - val_accuracy: 0.9769\n",
            "Epoch 9/10\n",
            "235/235 [==============================] - 3s 15ms/step - loss: 0.0163 - accuracy: 0.9952 - val_loss: 0.0747 - val_accuracy: 0.9780\n",
            "Epoch 10/10\n",
            "235/235 [==============================] - 4s 17ms/step - loss: 0.0116 - accuracy: 0.9971 - val_loss: 0.0883 - val_accuracy: 0.9743\n"
          ]
        }
      ]
    },
    {
      "cell_type": "code",
      "source": [
        "from keras import Sequential\n",
        "from keras.datasets import mnist\n",
        "import numpy as np\n",
        "from keras.layers import Dense\n",
        "from keras.utils import to_categorical\n",
        "\n",
        "(train_images,train_labels),(test_images, test_labels) = mnist.load_data()\n",
        "\n",
        "print(train_images.shape[1:])\n",
        "#process the data\n",
        "#1. convert each image of shape 28*28 to 784 dimensional which will be fed to the network as a single feature\n",
        "dimData = np.prod(train_images.shape[1:])\n",
        "print(dimData)\n",
        "train_data = train_images.reshape(train_images.shape[0],dimData)\n",
        "test_data = test_images.reshape(test_images.shape[0],dimData)\n",
        "\n",
        "#convert data to float and scale values between 0 and 1\n",
        "train_data = train_data.astype('float')\n",
        "test_data = test_data.astype('float')\n",
        "\n",
        "#change the labels frominteger to one-hot encoding. to_categorical is doing the same thing as LabelEncoder()\n",
        "train_labels_one_hot = to_categorical(train_labels)\n",
        "test_labels_one_hot = to_categorical(test_labels)\n",
        "\n",
        "#creating network\n",
        "model = Sequential()\n",
        "model.add(Dense(512, activation='relu', input_shape=(dimData,)))\n",
        "model.add(Dense(512, activation='relu'))\n",
        "model.add(Dense(10, activation='softmax'))\n",
        "\n",
        "model.compile(optimizer='rmsprop', loss='categorical_crossentropy', metrics=['accuracy'])\n",
        "history = model.fit(train_data, train_labels_one_hot, batch_size=256, epochs=10, verbose=1,\n",
        "                   validation_data=(test_data, test_labels_one_hot))\n",
        "test_loss, test_acc = model.evaluate(test_data, test_labels_one_hot, verbose=0)\n",
        "print(f'Test loss: {test_loss:.3f}, Test accuracy: {test_acc:.3f}')"
      ],
      "metadata": {
        "colab": {
          "base_uri": "https://localhost:8080/"
        },
        "id": "sQ3uYMKAFEC3",
        "outputId": "2f2aaae3-0ea0-41aa-8abb-854d0da085c8"
      },
      "execution_count": 13,
      "outputs": [
        {
          "output_type": "stream",
          "name": "stdout",
          "text": [
            "(28, 28)\n",
            "784\n",
            "Epoch 1/10\n",
            "235/235 [==============================] - 6s 18ms/step - loss: 4.8685 - accuracy: 0.8793 - val_loss: 0.6068 - val_accuracy: 0.9332\n",
            "Epoch 2/10\n",
            "235/235 [==============================] - 5s 20ms/step - loss: 0.4176 - accuracy: 0.9469 - val_loss: 0.3491 - val_accuracy: 0.9483\n",
            "Epoch 3/10\n",
            "235/235 [==============================] - 4s 17ms/step - loss: 0.2483 - accuracy: 0.9602 - val_loss: 0.3332 - val_accuracy: 0.9511\n",
            "Epoch 4/10\n",
            "235/235 [==============================] - 4s 18ms/step - loss: 0.1933 - accuracy: 0.9664 - val_loss: 0.3102 - val_accuracy: 0.9549\n",
            "Epoch 5/10\n",
            "235/235 [==============================] - 5s 19ms/step - loss: 0.1688 - accuracy: 0.9710 - val_loss: 0.3284 - val_accuracy: 0.9598\n",
            "Epoch 6/10\n",
            "235/235 [==============================] - 4s 17ms/step - loss: 0.1468 - accuracy: 0.9748 - val_loss: 0.2852 - val_accuracy: 0.9602\n",
            "Epoch 7/10\n",
            "235/235 [==============================] - 5s 19ms/step - loss: 0.1339 - accuracy: 0.9769 - val_loss: 0.3004 - val_accuracy: 0.9667\n",
            "Epoch 8/10\n",
            "235/235 [==============================] - 4s 17ms/step - loss: 0.1289 - accuracy: 0.9809 - val_loss: 0.4045 - val_accuracy: 0.9599\n",
            "Epoch 9/10\n",
            "235/235 [==============================] - 4s 17ms/step - loss: 0.1311 - accuracy: 0.9810 - val_loss: 0.2818 - val_accuracy: 0.9730\n",
            "Epoch 10/10\n",
            "235/235 [==============================] - 5s 19ms/step - loss: 0.1217 - accuracy: 0.9840 - val_loss: 0.3840 - val_accuracy: 0.9608\n",
            "Test loss: 0.384, Test accuracy: 0.961\n"
          ]
        }
      ]
    },
    {
      "cell_type": "code",
      "source": [
        " \n",
        " "
      ],
      "metadata": {
        "id": "jTtDMuIYFr0H"
      },
      "execution_count": null,
      "outputs": []
    }
  ]
}